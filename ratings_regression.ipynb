{
 "cells": [
  {
   "cell_type": "code",
   "execution_count": 2,
   "id": "0b3a9efb",
   "metadata": {},
   "outputs": [],
   "source": [
    "# The idea behind this is that players in the madden video games have 0-99 overall ratings\n",
    "# and a bunch of other 0-99 ratings for specific attributes like speed, awareness, throw power, etc.\n",
    "# my idea behind this project is to use regression to get the overall rating from these more specific ratings"
   ]
  },
  {
   "cell_type": "code",
   "execution_count": 3,
   "id": "0e631705",
   "metadata": {},
   "outputs": [],
   "source": [
    "import pandas\n",
    "import statsmodels.api as sm\n",
    "import numpy as np\n",
    "from patsy import dmatrices"
   ]
  },
  {
   "cell_type": "code",
   "execution_count": 34,
   "id": "7e8f0c91",
   "metadata": {},
   "outputs": [],
   "source": [
    "def get_new_params(n, params,data):\n",
    "    top_weights = params[1:].sort_values(ascending=False).to_numpy()[:n] #the 1: removes the intercept\n",
    "    top_features = params[1:].sort_values(ascending=False).index.to_numpy()[:n]\n",
    "    dict = {}\n",
    "    for a, b in zip(top_features, top_weights):\n",
    "        dict[a] = b\n",
    "    # print(dict)\n",
    "    string = 'overall_rating ~ '\n",
    "    for i in dict:\n",
    "        string+= i+'+'\n",
    "    string =string[:-1]\n",
    "    y2, X2 =dmatrices(string, data=data, return_type='dataframe')\n",
    "    mod_new = sm.OLS(y2, X2)\n",
    "    res_new = mod_new.fit()\n",
    "    # print(res_new.params)\n",
    "    return res_new.params"
   ]
  },
  {
   "cell_type": "code",
   "execution_count": 35,
   "id": "8a9f051e",
   "metadata": {},
   "outputs": [],
   "source": [
    "def validate(validation,params):\n",
    "    top_weights = params[1:].to_numpy()\n",
    "    top_features = params[1:].index.to_numpy()\n",
    "    dict = {}\n",
    "    for a, b in zip(top_features, top_weights):\n",
    "        dict[a] = b\n",
    "    #print(dict)\n",
    "    array=[]\n",
    "    for i in dict:\n",
    "        array.append(i)\n",
    "    #print(array)\n",
    "    features=validation[array].to_numpy()\n",
    "    labels=validation[['overall_rating']].to_numpy()\n",
    "    weights=params.to_numpy()\n",
    "    #print(features)\n",
    "    #print(weights[1:])\n",
    "    errors=np.matmul(features,weights[1:])+weights[0]-labels.transpose()\n",
    "    return np.average(np.absolute(errors))"
   ]
  },
  {
   "cell_type": "code",
   "execution_count": 60,
   "id": "cf4eb56f",
   "metadata": {},
   "outputs": [],
   "source": [
    "def doRegression(Position):\n",
    "    data=pandas.read_csv('Madden 23 Player Ratings.csv') # Read data\n",
    "    pos=data[data['Position']==Position] # filtering data for quarterbacks \n",
    "    pos_ratings=pos[['awareness_rating','throwPower_rating','kickReturn_rating','leadBlock_rating','strength_rating','bCVision_rating','catchInTraffic_rating','playAction_rating','pursuit_rating','mediumRouteRunning_rating','catching_rating','acceleration_rating','spinMove_rating','finesseMoves_rating','spectacularCatch_rating','runBlock_rating','tackle_rating','injury_rating','zoneCoverage_rating','deepRouteRunning_rating','trucking_rating','throwAccuracyShort_rating','jukeMove_rating','playRecognition_rating','shortRouteRunning_rating','breakSack_rating','speed_rating','runBlockPower_rating','jumping_rating','toughness_rating','throwOnTheRun_rating','manCoverage_rating','stiffArm_rating','powerMoves_rating','release_rating','hitPower_rating','throwAccuracyMid_rating','kickAccuracy_rating','passBlockPower_rating','impactBlocking_rating','stamina_rating','carrying_rating','breakTackle_rating','kickPower_rating','throwUnderPressure_rating','passBlock_rating','changeOfDirection_rating','press_rating','throwAccuracyDeep_rating','blockShedding_rating','runBlockFinesse_rating','agility_rating','overall_rating','passBlockFinesse_rating']]\n",
    "    # ^ These ratings are the ones that could matter so I'm only looking at these ones\n",
    "    training=pos_ratings.sample(frac=.8,random_state=1) # take 80% as training data\n",
    "    validation_rows=np.setdiff1d(pos_ratings.index,training.index)\n",
    "    array=np.zeros(data.index.size)\n",
    "    for n in range(data.index.size):\n",
    "        array[n]=(n in validation_rows)\n",
    "        array=np.array(array,dtype=bool)\n",
    "\n",
    "    validation=data.loc[array]\n",
    "\n",
    "    validation=validation[['overall_rating','awareness_rating','throwPower_rating','kickReturn_rating','leadBlock_rating','strength_rating','bCVision_rating','catchInTraffic_rating','playAction_rating','pursuit_rating','mediumRouteRunning_rating','catching_rating','acceleration_rating','spinMove_rating','finesseMoves_rating','spectacularCatch_rating','runBlock_rating','tackle_rating','injury_rating','zoneCoverage_rating','deepRouteRunning_rating','trucking_rating','throwAccuracyShort_rating','jukeMove_rating','playRecognition_rating','shortRouteRunning_rating','breakSack_rating','speed_rating','runBlockPower_rating','jumping_rating','toughness_rating','throwOnTheRun_rating','manCoverage_rating','stiffArm_rating','powerMoves_rating','release_rating','hitPower_rating','throwAccuracyMid_rating','kickAccuracy_rating','passBlockPower_rating','impactBlocking_rating','stamina_rating','carrying_rating','breakTackle_rating','kickPower_rating','throwUnderPressure_rating','passBlock_rating','changeOfDirection_rating','press_rating','throwAccuracyDeep_rating','blockShedding_rating','runBlockFinesse_rating','agility_rating','passBlockFinesse_rating']]\n",
    "    # makes the rest of the data the validation set\n",
    "   \n",
    "    y, X =dmatrices('overall_rating ~ awareness_rating+throwPower_rating+kickReturn_rating+leadBlock_rating+strength_rating+bCVision_rating+catchInTraffic_rating+playAction_rating+pursuit_rating+mediumRouteRunning_rating+catching_rating+acceleration_rating+spinMove_rating+finesseMoves_rating+spectacularCatch_rating+runBlock_rating+tackle_rating+injury_rating+zoneCoverage_rating+deepRouteRunning_rating+trucking_rating+throwAccuracyShort_rating+jukeMove_rating+playRecognition_rating+shortRouteRunning_rating+breakSack_rating+speed_rating+runBlockPower_rating+jumping_rating+toughness_rating+throwOnTheRun_rating+manCoverage_rating+stiffArm_rating+powerMoves_rating+release_rating+hitPower_rating+throwAccuracyMid_rating+kickAccuracy_rating+passBlockPower_rating+impactBlocking_rating+stamina_rating+carrying_rating+breakTackle_rating+kickPower_rating+throwUnderPressure_rating+passBlock_rating+changeOfDirection_rating+press_rating+throwAccuracyDeep_rating+blockShedding_rating+runBlockFinesse_rating+agility_rating+passBlockFinesse_rating',data=training, return_type='dataframe')\n",
    "    # this line does the regression part\n",
    "    mod = sm.OLS(y, X)\n",
    "    res = mod.fit()\n",
    "    error_array=np.zeros([res.params.to_numpy().size-1,1],dtype=float)\n",
    "    size=res.params.to_numpy().size\n",
    "    for n in range(size-1): # experiment with keeping 1,2,...,size-1 features (n goes from 0 to size-2)\n",
    "        # n+1 is the number of features we are keeping\n",
    "        new_params=get_new_params(n+1,res.params,training)\n",
    "        error_array[n]=validate(validation,new_params)\n",
    "    #print(error_array)\n",
    "    optimal_params=1\n",
    "    while(error_array[optimal_params-1]>1):\n",
    "        optimal_params+=1\n",
    "        if optimal_params==54:\n",
    "            optimal_params-=1\n",
    "            break\n",
    "    print('Average absolute error: '+str(error_array[optimal_params-1]))\n",
    "    return get_new_params(optimal_params,res.params,data) # we're training the model with the "
   ]
  },
  {
   "cell_type": "code",
   "execution_count": 63,
   "id": "5cae7e1c",
   "metadata": {},
   "outputs": [
    {
     "name": "stdout",
     "output_type": "stream",
     "text": [
      "Average absolute error: [0.87759452]\n",
      "Intercept                   -8.601811\n",
      "speed_rating                 0.315727\n",
      "mediumRouteRunning_rating    0.024141\n",
      "spectacularCatch_rating     -0.041266\n",
      "acceleration_rating          0.102044\n",
      "awareness_rating             0.695479\n",
      "jukeMove_rating             -0.008825\n",
      "catching_rating             -0.049951\n",
      "dtype: float64\n"
     ]
    }
   ],
   "source": [
    "print(doRegression('WR')) # change the argument here to do regression on whichever position"
   ]
  },
  {
   "cell_type": "code",
   "execution_count": 32,
   "id": "e26b7c71",
   "metadata": {},
   "outputs": [
    {
     "name": "stdout",
     "output_type": "stream",
     "text": [
      "Intercept            88.761905\n",
      "playAction_rating    -3.452381\n",
      "dtype: float64\n"
     ]
    }
   ],
   "source": [
    "# code snippet\n",
    "# instead of taking top n features, we keep retraining the model, removing one feature at a time until there are n left\n",
    "error_array=np.zeros([res.params.to_numpy().size-1,1],dtype=float)\n",
    "    size=res.params.to_numpy().size\n",
    "    for n in range(size-1): # experiment with keeping 1,2,...,size-1 features (n goes from 0 to size-2)\n",
    "        # n+1 is the number of features we are keeping\n",
    "        new_params=res.params\n",
    "        for j in range(size-n-1): # if n+1=5 and size=7, we will need to remove 2 features\n",
    "            # j goes from 0 to size-n-2\n",
    "            new_params=get_new_params(size-j-1,new_params,training)\n",
    "        error_array[n]=validate(validation,new_params)"
   ]
  }
 ],
 "metadata": {
  "kernelspec": {
   "display_name": "Python 3 (ipykernel)",
   "language": "python",
   "name": "python3"
  },
  "language_info": {
   "codemirror_mode": {
    "name": "ipython",
    "version": 3
   },
   "file_extension": ".py",
   "mimetype": "text/x-python",
   "name": "python",
   "nbconvert_exporter": "python",
   "pygments_lexer": "ipython3",
   "version": "3.10.6"
  }
 },
 "nbformat": 4,
 "nbformat_minor": 5
}
