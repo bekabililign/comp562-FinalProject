{
 "cells": [
  {
   "cell_type": "code",
   "execution_count": 5,
   "id": "0b3a9efb",
   "metadata": {},
   "outputs": [],
   "source": [
    "# The idea behind this is that players in the madden video games have 0-99 overall ratings\n",
    "# and a bunch of other 0-99 ratings for specific attributes like speed, awareness, throw power, etc.\n",
    "# my idea behind this project is to use regression to get the overall rating from these more specific ratings"
   ]
  },
  {
   "cell_type": "code",
   "execution_count": 6,
   "id": "0e631705",
   "metadata": {},
   "outputs": [],
   "source": [
    "import pandas\n",
    "import statsmodels.api as sm\n",
    "import numpy as np\n"
   ]
  },
  {
   "cell_type": "code",
   "execution_count": 7,
   "id": "7e8f0c91",
   "metadata": {},
   "outputs": [],
   "source": [
    "# Toy example with quarterbacks"
   ]
  },
  {
   "cell_type": "code",
   "execution_count": 8,
   "id": "d9d530ac",
   "metadata": {},
   "outputs": [],
   "source": [
    "data=pandas.read_csv('Madden_23_Player_Ratings.csv') # Read data\n",
    "qbs=data[data['Position']=='QB'] # filtering data for quarterbacks \n",
    "qb_ratings=qbs[['awareness_rating','throwPower_rating','kickReturn_rating','leadBlock_rating','strength_rating','bCVision_rating','catchInTraffic_rating','playAction_rating','pursuit_rating','mediumRouteRunning_rating','catching_rating','acceleration_rating','spinMove_rating','finesseMoves_rating','spectacularCatch_rating','runBlock_rating','tackle_rating','injury_rating','zoneCoverage_rating','deepRouteRunning_rating','trucking_rating','throwAccuracyShort_rating','jukeMove_rating','playRecognition_rating','shortRouteRunning_rating','breakSack_rating','speed_rating','runBlockPower_rating','jumping_rating','toughness_rating','throwOnTheRun_rating','manCoverage_rating','stiffArm_rating','powerMoves_rating','release_rating','hitPower_rating','throwAccuracyMid_rating','kickAccuracy_rating','passBlockPower_rating','impactBlocking_rating','stamina_rating','carrying_rating','breakTackle_rating','kickPower_rating','throwUnderPressure_rating','passBlock_rating','changeOfDirection_rating','press_rating','throwAccuracyDeep_rating','blockShedding_rating','runBlockFinesse_rating','agility_rating','overall_rating','passBlockFinesse_rating']]\n",
    "# ^ These ratings are the ones that could matter so I'm only looking at these ones\n",
    "training=qb_ratings.sample(frac=.8,random_state=1) # take 80% as training data\n",
    "validation_rows=np.setdiff1d(qb_ratings.index,training.index)\n",
    "array=np.zeros(data.index.size)\n",
    "for n in range(data.index.size):\n",
    "    array[n]=(n in validation_rows)\n",
    "array=np.array(array,dtype=bool)\n",
    "\n",
    "validation=data.loc[array]\n",
    "#print(validation)\n",
    "validation=validation[['overall_rating','awareness_rating','throwPower_rating','kickReturn_rating','leadBlock_rating','strength_rating','bCVision_rating','catchInTraffic_rating','playAction_rating','pursuit_rating','mediumRouteRunning_rating','catching_rating','acceleration_rating','spinMove_rating','finesseMoves_rating','spectacularCatch_rating','runBlock_rating','tackle_rating','injury_rating','zoneCoverage_rating','deepRouteRunning_rating','trucking_rating','throwAccuracyShort_rating','jukeMove_rating','playRecognition_rating','shortRouteRunning_rating','breakSack_rating','speed_rating','runBlockPower_rating','jumping_rating','toughness_rating','throwOnTheRun_rating','manCoverage_rating','stiffArm_rating','powerMoves_rating','release_rating','hitPower_rating','throwAccuracyMid_rating','kickAccuracy_rating','passBlockPower_rating','impactBlocking_rating','stamina_rating','carrying_rating','breakTackle_rating','kickPower_rating','throwUnderPressure_rating','passBlock_rating','changeOfDirection_rating','press_rating','throwAccuracyDeep_rating','blockShedding_rating','runBlockFinesse_rating','agility_rating','passBlockFinesse_rating']]\n",
    "# makes the rest of the data the validation set"
   ]
  },
  {
   "cell_type": "code",
   "execution_count": 9,
   "id": "5cae7e1c",
   "metadata": {},
   "outputs": [],
   "source": [
    "from patsy import dmatrices"
   ]
  },
  {
   "cell_type": "code",
   "execution_count": 10,
   "id": "75dce43a",
   "metadata": {},
   "outputs": [],
   "source": [
    "y, X =dmatrices('overall_rating ~ awareness_rating+throwPower_rating+kickReturn_rating+leadBlock_rating+strength_rating+bCVision_rating+catchInTraffic_rating+playAction_rating+pursuit_rating+mediumRouteRunning_rating+catching_rating+acceleration_rating+spinMove_rating+finesseMoves_rating+spectacularCatch_rating+runBlock_rating+tackle_rating+injury_rating+zoneCoverage_rating+deepRouteRunning_rating+trucking_rating+throwAccuracyShort_rating+jukeMove_rating+playRecognition_rating+shortRouteRunning_rating+breakSack_rating+speed_rating+runBlockPower_rating+jumping_rating+toughness_rating+throwOnTheRun_rating+manCoverage_rating+stiffArm_rating+powerMoves_rating+release_rating+hitPower_rating+throwAccuracyMid_rating+kickAccuracy_rating+passBlockPower_rating+impactBlocking_rating+stamina_rating+carrying_rating+breakTackle_rating+kickPower_rating+throwUnderPressure_rating+passBlock_rating+changeOfDirection_rating+press_rating+throwAccuracyDeep_rating+blockShedding_rating+runBlockFinesse_rating+agility_rating+passBlockFinesse_rating',data=training, return_type='dataframe')\n",
    "# this line does the regression part"
   ]
  },
  {
   "cell_type": "code",
   "execution_count": 11,
   "id": "4dab7562",
   "metadata": {},
   "outputs": [
    {
     "name": "stdout",
     "output_type": "stream",
     "text": [
      "Intercept                   -109.484450\n",
      "awareness_rating               0.290388\n",
      "throwPower_rating              0.670634\n",
      "kickReturn_rating              0.058926\n",
      "leadBlock_rating               0.034343\n",
      "strength_rating                0.043156\n",
      "bCVision_rating               -0.003172\n",
      "catchInTraffic_rating          0.028398\n",
      "playAction_rating              0.173222\n",
      "pursuit_rating                 0.080750\n",
      "mediumRouteRunning_rating      0.031016\n",
      "catching_rating                0.021982\n",
      "acceleration_rating           -0.036984\n",
      "spinMove_rating                0.030574\n",
      "finesseMoves_rating            0.233155\n",
      "spectacularCatch_rating       -0.053904\n",
      "runBlock_rating               -0.036741\n",
      "tackle_rating                 -0.007912\n",
      "injury_rating                  0.097062\n",
      "zoneCoverage_rating            0.114926\n",
      "deepRouteRunning_rating       -0.063762\n",
      "trucking_rating                0.020021\n",
      "throwAccuracyShort_rating      0.089708\n",
      "jukeMove_rating                0.067493\n",
      "playRecognition_rating        -0.004212\n",
      "shortRouteRunning_rating      -0.005368\n",
      "breakSack_rating               0.011205\n",
      "speed_rating                   0.021142\n",
      "runBlockPower_rating           0.181237\n",
      "jumping_rating                 0.018831\n",
      "toughness_rating               0.007926\n",
      "throwOnTheRun_rating           0.099645\n",
      "manCoverage_rating            -0.083995\n",
      "stiffArm_rating               -0.055738\n",
      "powerMoves_rating             -0.214461\n",
      "release_rating                -0.013155\n",
      "hitPower_rating               -0.021096\n",
      "throwAccuracyMid_rating        0.509285\n",
      "kickAccuracy_rating            0.009542\n",
      "passBlockPower_rating         -0.060907\n",
      "impactBlocking_rating         -0.017820\n",
      "stamina_rating                -0.033387\n",
      "carrying_rating                0.083013\n",
      "breakTackle_rating            -0.000885\n",
      "kickPower_rating              -0.008134\n",
      "throwUnderPressure_rating      0.085089\n",
      "passBlock_rating               0.119053\n",
      "changeOfDirection_rating      -0.000320\n",
      "press_rating                  -0.049972\n",
      "throwAccuracyDeep_rating      -0.016440\n",
      "blockShedding_rating          -0.070303\n",
      "runBlockFinesse_rating        -0.164834\n",
      "agility_rating                 0.037502\n",
      "passBlockFinesse_rating        0.065082\n",
      "dtype: float64\n"
     ]
    }
   ],
   "source": [
    "mod = sm.OLS(y, X)\n",
    "res = mod.fit()\n",
    "print(res.params) # see the weight values here"
   ]
  },
  {
   "cell_type": "code",
   "execution_count": 12,
   "id": "f10374b6",
   "metadata": {},
   "outputs": [],
   "source": [
    "significance_arr=res.params.to_numpy()>0\n",
    "significance_arr[0]=True\n",
    "new_params=np.multiply(significance_arr,res.params.to_numpy())\n",
    "#print(np.matmul(validation.to_numpy(),new_params[1:]))\n",
    "#print(new_params[1:])\n",
    "#print(qb_ratings.iloc[1])\n",
    "no_overall=validation[['awareness_rating','throwPower_rating','kickReturn_rating','leadBlock_rating','strength_rating','bCVision_rating','catchInTraffic_rating','playAction_rating','pursuit_rating','mediumRouteRunning_rating','catching_rating','acceleration_rating','spinMove_rating','finesseMoves_rating','spectacularCatch_rating','runBlock_rating','tackle_rating','injury_rating','zoneCoverage_rating','deepRouteRunning_rating','trucking_rating','throwAccuracyShort_rating','jukeMove_rating','playRecognition_rating','shortRouteRunning_rating','breakSack_rating','speed_rating','runBlockPower_rating','jumping_rating','toughness_rating','throwOnTheRun_rating','manCoverage_rating','stiffArm_rating','powerMoves_rating','release_rating','hitPower_rating','throwAccuracyMid_rating','kickAccuracy_rating','passBlockPower_rating','impactBlocking_rating','stamina_rating','carrying_rating','breakTackle_rating','kickPower_rating','throwUnderPressure_rating','passBlock_rating','changeOfDirection_rating','press_rating','throwAccuracyDeep_rating','blockShedding_rating','runBlockFinesse_rating','agility_rating','passBlockFinesse_rating']]\n",
    "#print(no_overall)\n",
    "predictions=np.matmul(no_overall.to_numpy(),new_params[1:])+new_params[0]\n",
    "\n",
    "#print(new_params[1:])"
   ]
  },
  {
   "cell_type": "code",
   "execution_count": 13,
   "id": "733e77cf",
   "metadata": {},
   "outputs": [
    {
     "name": "stdout",
     "output_type": "stream",
     "text": [
      "[20.94508025 29.2367633  26.57088913 23.42808284 19.47636933 20.92296861\n",
      " 20.23047113 22.09989234 28.00636505 21.91416104 35.66459962 17.83772927\n",
      " 26.23320521 24.9580279  24.3461672  28.61346701 21.3395433  22.63000994\n",
      " 27.87675008 23.49074851 20.03195915]\n"
     ]
    }
   ],
   "source": [
    "actuals=validation.to_numpy()[:,0]\n",
    "print(predictions-actuals)"
   ]
  },
  {
   "cell_type": "code",
   "execution_count": 14,
   "id": "55ae4768",
   "metadata": {},
   "outputs": [],
   "source": [
    "#https://www.statsmodels.org/stable/gettingstarted.html\n",
    "# Website for doing regression with python"
   ]
  }
 ],
 "metadata": {
  "kernelspec": {
   "display_name": "Python 3.9.12 ('base')",
   "language": "python",
   "name": "python3"
  },
  "language_info": {
   "codemirror_mode": {
    "name": "ipython",
    "version": 3
   },
   "file_extension": ".py",
   "mimetype": "text/x-python",
   "name": "python",
   "nbconvert_exporter": "python",
   "pygments_lexer": "ipython3",
   "version": "3.9.12"
  },
  "vscode": {
   "interpreter": {
    "hash": "4b381245fe48d2d81959649d059e9e36fb0ca1409bafb6720dba8b1cfd0026b2"
   }
  }
 },
 "nbformat": 4,
 "nbformat_minor": 5
}
