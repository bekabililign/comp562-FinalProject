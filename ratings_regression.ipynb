{
 "cells": [
  {
   "cell_type": "code",
   "execution_count": 152,
   "id": "0b3a9efb",
   "metadata": {},
   "outputs": [],
   "source": [
    "# The idea behind this is that players in the madden video games have 0-99 overall ratings\n",
    "# and a bunch of other 0-99 ratings for specific attributes like speed, awareness, throw power, etc.\n",
    "# my idea behind this project is to use regression to get the overall rating from these more specific ratings"
   ]
  },
  {
   "cell_type": "code",
   "execution_count": 153,
   "id": "0e631705",
   "metadata": {},
   "outputs": [],
   "source": [
    "import pandas\n",
    "import statsmodels.api as sm\n",
    "import numpy as np\n"
   ]
  },
  {
   "cell_type": "code",
   "execution_count": 154,
   "id": "7e8f0c91",
   "metadata": {},
   "outputs": [],
   "source": [
    "# Toy example with quarterbacks"
   ]
  },
  {
   "cell_type": "code",
   "execution_count": 155,
   "id": "d9d530ac",
   "metadata": {},
   "outputs": [],
   "source": [
    "data=pandas.read_csv('Madden 23 Player Ratings.csv') # Read data\n",
    "qbs=data[data['Position']=='QB'] # filtering data for quarterbacks \n",
    "qb_ratings=qbs[['awareness_rating','throwPower_rating','kickReturn_rating','leadBlock_rating','strength_rating','bCVision_rating','catchInTraffic_rating','playAction_rating','pursuit_rating','mediumRouteRunning_rating','catching_rating','acceleration_rating','spinMove_rating','finesseMoves_rating','spectacularCatch_rating','runBlock_rating','tackle_rating','injury_rating','zoneCoverage_rating','deepRouteRunning_rating','trucking_rating','throwAccuracyShort_rating','jukeMove_rating','playRecognition_rating','shortRouteRunning_rating','breakSack_rating','speed_rating','runBlockPower_rating','jumping_rating','toughness_rating','throwOnTheRun_rating','manCoverage_rating','stiffArm_rating','powerMoves_rating','release_rating','hitPower_rating','throwAccuracyMid_rating','kickAccuracy_rating','passBlockPower_rating','impactBlocking_rating','stamina_rating','carrying_rating','breakTackle_rating','kickPower_rating','throwUnderPressure_rating','passBlock_rating','changeOfDirection_rating','press_rating','throwAccuracyDeep_rating','blockShedding_rating','runBlockFinesse_rating','agility_rating','overall_rating','passBlockFinesse_rating']]\n",
    "# ^ These ratings are the ones that could matter so I'm only looking at these ones\n",
    "training=qb_ratings.sample(frac=.8,random_state=1) # take 80% as training data\n",
    "validation_rows=np.setdiff1d(qb_ratings.index,training.index)\n",
    "array=np.zeros(data.index.size)\n",
    "for n in range(data.index.size):\n",
    "    array[n]=(n in validation_rows)\n",
    "array=np.array(array,dtype=bool)\n",
    "\n",
    "validation=data.loc[array]\n",
    "#print(validation)\n",
    "validation=validation[['overall_rating','awareness_rating','throwPower_rating','kickReturn_rating','leadBlock_rating','strength_rating','bCVision_rating','catchInTraffic_rating','playAction_rating','pursuit_rating','mediumRouteRunning_rating','catching_rating','acceleration_rating','spinMove_rating','finesseMoves_rating','spectacularCatch_rating','runBlock_rating','tackle_rating','injury_rating','zoneCoverage_rating','deepRouteRunning_rating','trucking_rating','throwAccuracyShort_rating','jukeMove_rating','playRecognition_rating','shortRouteRunning_rating','breakSack_rating','speed_rating','runBlockPower_rating','jumping_rating','toughness_rating','throwOnTheRun_rating','manCoverage_rating','stiffArm_rating','powerMoves_rating','release_rating','hitPower_rating','throwAccuracyMid_rating','kickAccuracy_rating','passBlockPower_rating','impactBlocking_rating','stamina_rating','carrying_rating','breakTackle_rating','kickPower_rating','throwUnderPressure_rating','passBlock_rating','changeOfDirection_rating','press_rating','throwAccuracyDeep_rating','blockShedding_rating','runBlockFinesse_rating','agility_rating','passBlockFinesse_rating']]\n",
    "# makes the rest of the data the validation set"
   ]
  },
  {
   "cell_type": "code",
   "execution_count": 156,
   "id": "5cae7e1c",
   "metadata": {},
   "outputs": [],
   "source": [
    "from patsy import dmatrices"
   ]
  },
  {
   "cell_type": "code",
   "execution_count": 157,
   "id": "75dce43a",
   "metadata": {},
   "outputs": [],
   "source": [
    "y, X =dmatrices('overall_rating ~ awareness_rating+throwPower_rating+kickReturn_rating+leadBlock_rating+strength_rating+bCVision_rating+catchInTraffic_rating+playAction_rating+pursuit_rating+mediumRouteRunning_rating+catching_rating+acceleration_rating+spinMove_rating+finesseMoves_rating+spectacularCatch_rating+runBlock_rating+tackle_rating+injury_rating+zoneCoverage_rating+deepRouteRunning_rating+trucking_rating+throwAccuracyShort_rating+jukeMove_rating+playRecognition_rating+shortRouteRunning_rating+breakSack_rating+speed_rating+runBlockPower_rating+jumping_rating+toughness_rating+throwOnTheRun_rating+manCoverage_rating+stiffArm_rating+powerMoves_rating+release_rating+hitPower_rating+throwAccuracyMid_rating+kickAccuracy_rating+passBlockPower_rating+impactBlocking_rating+stamina_rating+carrying_rating+breakTackle_rating+kickPower_rating+throwUnderPressure_rating+passBlock_rating+changeOfDirection_rating+press_rating+throwAccuracyDeep_rating+blockShedding_rating+runBlockFinesse_rating+agility_rating+passBlockFinesse_rating',data=training, return_type='dataframe')\n",
    "# this line does the regression part"
   ]
  },
  {
   "cell_type": "code",
   "execution_count": 158,
   "id": "4dab7562",
   "metadata": {},
   "outputs": [
    {
     "name": "stdout",
     "output_type": "stream",
     "text": [
      "Intercept                   -113.084620\n",
      "awareness_rating               0.294721\n",
      "throwPower_rating              0.622229\n",
      "kickReturn_rating              0.083811\n",
      "leadBlock_rating               0.074306\n",
      "strength_rating                0.042160\n",
      "bCVision_rating                0.026503\n",
      "catchInTraffic_rating          0.053262\n",
      "playAction_rating              0.227750\n",
      "pursuit_rating                 0.093441\n",
      "mediumRouteRunning_rating      0.000363\n",
      "catching_rating                0.036943\n",
      "acceleration_rating           -0.025827\n",
      "spinMove_rating                0.056680\n",
      "finesseMoves_rating            0.155105\n",
      "spectacularCatch_rating       -0.073667\n",
      "runBlock_rating                0.004818\n",
      "tackle_rating                  0.035127\n",
      "injury_rating                  0.164051\n",
      "zoneCoverage_rating            0.191237\n",
      "deepRouteRunning_rating       -0.062255\n",
      "trucking_rating                0.043240\n",
      "throwAccuracyShort_rating      0.238153\n",
      "jukeMove_rating                0.036830\n",
      "playRecognition_rating        -0.046749\n",
      "shortRouteRunning_rating      -0.014904\n",
      "breakSack_rating               0.029309\n",
      "speed_rating                   0.029942\n",
      "runBlockPower_rating           0.079659\n",
      "jumping_rating                 0.008682\n",
      "toughness_rating               0.034233\n",
      "throwOnTheRun_rating           0.024490\n",
      "manCoverage_rating            -0.199084\n",
      "stiffArm_rating               -0.068614\n",
      "powerMoves_rating             -0.282294\n",
      "release_rating                 0.043158\n",
      "hitPower_rating                0.016118\n",
      "throwAccuracyMid_rating        0.408214\n",
      "kickAccuracy_rating           -0.035367\n",
      "passBlockPower_rating          0.037522\n",
      "impactBlocking_rating         -0.027442\n",
      "stamina_rating                -0.104450\n",
      "carrying_rating                0.070766\n",
      "breakTackle_rating            -0.039286\n",
      "kickPower_rating               0.047316\n",
      "throwUnderPressure_rating      0.094926\n",
      "passBlock_rating              -0.018035\n",
      "changeOfDirection_rating      -0.021353\n",
      "press_rating                   0.026125\n",
      "throwAccuracyDeep_rating       0.007021\n",
      "blockShedding_rating          -0.149127\n",
      "runBlockFinesse_rating        -0.091544\n",
      "agility_rating                 0.031674\n",
      "passBlockFinesse_rating        0.050132\n",
      "dtype: float64\n"
     ]
    }
   ],
   "source": [
    "mod = sm.OLS(y, X)\n",
    "res = mod.fit()\n",
    "print(res.params) # see the weight values here"
   ]
  },
  {
   "cell_type": "code",
   "execution_count": 159,
   "id": "f10374b6",
   "metadata": {},
   "outputs": [],
   "source": [
    "features=validation[['awareness_rating','throwPower_rating','kickReturn_rating','leadBlock_rating','strength_rating','bCVision_rating','catchInTraffic_rating','playAction_rating','pursuit_rating','mediumRouteRunning_rating','catching_rating','acceleration_rating','spinMove_rating','finesseMoves_rating','spectacularCatch_rating','runBlock_rating','tackle_rating','injury_rating','zoneCoverage_rating','deepRouteRunning_rating','trucking_rating','throwAccuracyShort_rating','jukeMove_rating','playRecognition_rating','shortRouteRunning_rating','breakSack_rating','speed_rating','runBlockPower_rating','jumping_rating','toughness_rating','throwOnTheRun_rating','manCoverage_rating','stiffArm_rating','powerMoves_rating','release_rating','hitPower_rating','throwAccuracyMid_rating','kickAccuracy_rating','passBlockPower_rating','impactBlocking_rating','stamina_rating','carrying_rating','breakTackle_rating','kickPower_rating','throwUnderPressure_rating','passBlock_rating','changeOfDirection_rating','press_rating','throwAccuracyDeep_rating','blockShedding_rating','runBlockFinesse_rating','agility_rating','passBlockFinesse_rating']].to_numpy()"
   ]
  },
  {
   "cell_type": "code",
   "execution_count": 160,
   "id": "733e77cf",
   "metadata": {},
   "outputs": [
    {
     "name": "stdout",
     "output_type": "stream",
     "text": [
      "Average error: 0.5078850164008798\n",
      "Average absolute error: 1.9455980112477722\n"
     ]
    }
   ],
   "source": [
    "labels=validation[['overall_rating']].to_numpy()\n",
    "weights=res.params.to_numpy()\n",
    "errors=np.matmul(features,weights[1:])+weights[0]-labels.transpose()\n",
    "errors=np.matmul(features,weights[1:])+weights[0]-labels.transpose()\n",
    "print('Average error: '+str(np.average(errors)))\n",
    "print('Average absolute error: '+str(np.average(np.absolute(errors))))"
   ]
  },
  {
   "cell_type": "code",
   "execution_count": 161,
   "id": "55ae4768",
   "metadata": {},
   "outputs": [],
   "source": [
    "#https://www.statsmodels.org/stable/gettingstarted.html\n",
    "# Website for doing regression with python"
   ]
  },
  {
   "cell_type": "code",
   "execution_count": 162,
   "id": "9471adf8",
   "metadata": {},
   "outputs": [],
   "source": [
    "y, X =dmatrices('overall_rating ~ awareness_rating+throwPower_rating+playAction_rating+throwAccuracyMid_rating',data=training, return_type='dataframe')"
   ]
  },
  {
   "cell_type": "code",
   "execution_count": 163,
   "id": "2b1a0296",
   "metadata": {},
   "outputs": [
    {
     "name": "stdout",
     "output_type": "stream",
     "text": [
      "Intercept                 -88.504916\n",
      "awareness_rating            0.309993\n",
      "throwPower_rating           0.787840\n",
      "playAction_rating           0.253922\n",
      "throwAccuracyMid_rating     0.600476\n",
      "dtype: float64\n"
     ]
    }
   ],
   "source": [
    "mod = sm.OLS(y, X)\n",
    "res = mod.fit()\n",
    "print(res.params) # this time the only ratings we care about are the significant quarterback-specific ratings"
   ]
  },
  {
   "cell_type": "code",
   "execution_count": 164,
   "id": "7c6df3f2",
   "metadata": {},
   "outputs": [],
   "source": [
    "weights=res.params.to_numpy()"
   ]
  },
  {
   "cell_type": "code",
   "execution_count": 165,
   "id": "2f5b1104",
   "metadata": {},
   "outputs": [],
   "source": [
    "features=validation[['awareness_rating','throwPower_rating','playAction_rating','throwAccuracyMid_rating']].to_numpy()"
   ]
  },
  {
   "cell_type": "code",
   "execution_count": 166,
   "id": "48f49a26",
   "metadata": {},
   "outputs": [],
   "source": [
    "labels=validation[['overall_rating']].to_numpy()"
   ]
  },
  {
   "cell_type": "code",
   "execution_count": 167,
   "id": "cae85292",
   "metadata": {},
   "outputs": [
    {
     "name": "stdout",
     "output_type": "stream",
     "text": [
      "Average error: -0.6175815709251671\n",
      "Average absolute error: 1.6156437895238138\n"
     ]
    }
   ],
   "source": [
    "errors=np.matmul(features,weights[1:])+weights[0]-labels.transpose()\n",
    "print('Average error: '+str(np.average(errors)))\n",
    "print('Average absolute error: '+str(np.average(np.absolute(errors))))"
   ]
  },
  {
   "cell_type": "code",
   "execution_count": null,
   "id": "f42f2ba4",
   "metadata": {},
   "outputs": [],
   "source": []
  }
 ],
 "metadata": {
  "kernelspec": {
   "display_name": "Python 3 (ipykernel)",
   "language": "python",
   "name": "python3"
  },
  "language_info": {
   "codemirror_mode": {
    "name": "ipython",
    "version": 3
   },
   "file_extension": ".py",
   "mimetype": "text/x-python",
   "name": "python",
   "nbconvert_exporter": "python",
   "pygments_lexer": "ipython3",
   "version": "3.10.6"
  }
 },
 "nbformat": 4,
 "nbformat_minor": 5
}
